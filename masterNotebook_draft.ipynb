{
 "cells": [
  {
   "cell_type": "markdown",
   "metadata": {},
   "source": [
    "<img src=images/Theatre1.png width=\"400\" height=\"240\">\n"
   ]
  },
  {
   "cell_type": "markdown",
   "metadata": {},
   "source": [
    "# Recommendations for Microsoft's Brand New Movie Studio\n",
    "\n",
    "**Authors:** Dietrich Nigh, Annie Zheng, Paul Schulken\n",
    "***"
   ]
  },
  {
   "cell_type": "markdown",
   "metadata": {},
   "source": [
    "## Overview\n",
    "\n",
    "With the return of theatrical movie releases, in addition to the increase in streaming video content, Microsoft has expressed interest in creating their own movie studio. To maximize their chances of success, they have requested an analysis of the best performing movies at the box office. The relationship between box office results and genre, awards votes, release seasonality and run times were analyzed to determine what combinations were most likely to produce popular and profitable movies.  This analysis explored those factors that tend to make a movie commercially and critically successful."
   ]
  },
  {
   "cell_type": "markdown",
   "metadata": {},
   "source": [
    "## Business Problem\n",
    "\n",
    "Creating a movie studio is a big undertaking and therefore requires a good amount of forethought. Our statistical will assist Microsoft in determining the direction of their studio. Like any business, the studio must make money to remain operational so the box office results were focused on from the beginning. Profitability, genre, seasonality and run times were the main focuses of the analysis and were deemed to be vital to the success of a movie and the studio itself. What makes a high grossing movie? The team analyzed the gross profits compared to movie genres that most people took interest in as well as seasonality to determine the best release time. We also analyzed run times of movies to determine whether the length of a movie would affect a movie's likability. By determining the factors most correlated with box office success, Microsoft's new studio can use the results to produce movies with confidence that they'll be profitable and well received."
   ]
  },
  {
   "cell_type": "markdown",
   "metadata": {},
   "source": [
    "## Data Understanding\n",
    "\n",
    "The data used in this analysis was taken from [IMDB](https://www.imdb.com/), [The Numbers](https://www.the-numbers.com/), and [The Movie DB](https://www.themoviedb.org/), websites that track multiple metrics related to movies and allow users to review and discuss these movies. The data files provided release dates, genre information, awards vote numbers, run time, production budgets as well as domestic and worldwide gross figures for thousands of movies. The target variables were the profits which laid a foundation for the rest of the analysis which dove deeper into their respective genres and release dates. The dataset primarily contains quantitative numerical data, with the instance of qualitative categorical data of genres. By representing profit, award vote counts, and release years and months as numbers, statistical analysis and conditional filtering could be performed."
   ]
  },
  {
   "cell_type": "code",
   "execution_count": null,
   "metadata": {},
   "outputs": [],
   "source": [
    "# Import necessary packages\n",
    "import pandas as pd\n",
    "import numpy as np\n",
    "import matplotlib.pyplot as plt\n",
    "import seaborn as sns\n",
    "import sqlite3\n",
    "\n",
    "%matplotlib inline"
   ]
  },
  {
   "cell_type": "code",
   "execution_count": null,
   "metadata": {},
   "outputs": [],
   "source": [
    "# Suppress scientific notation\n",
    "pd.set_option('display.float_format', lambda x: '%.5f' % x)"
   ]
  },
  {
   "cell_type": "code",
   "execution_count": null,
   "metadata": {},
   "outputs": [],
   "source": [
    "# Load data set 'tmdb.movies.csv.gz' with data obtained from TMDB\n",
    "movies = pd.read_csv('zippedData//tmdb.movies.csv.gz')\n",
    "\n",
    "# Load dataset 'tn.movie_budgets.csv.gz' with data obtained from The-Numbers\n",
    "movie_budgets = pd.read_csv('zippedData//tn.movie_budgets.csv.gz')\n",
    "\n",
    "# Connect and read in SQLite3 database\n",
    "conn = sqlite3.connect('zippedData/im.db')"
   ]
  },
  {
   "cell_type": "markdown",
   "metadata": {},
   "source": [
    "## Data Preparation\n",
    "\n",
    "In order to perform our analysis, our team merged several tables together to obtain a full dataset. In doing so, we accumulated columns that contained duplicate or unnecessary data to our analysis and those columns were dropped. Data such as the numeric genre codes were changed to the respective genre titles that correlated to The Movie Database's database. Lastly, columns for Profit and Profit:Gross Ratio were calculated to be used in the visualizations.\n",
    "\n",
    "The dataset includes movies released from 2009-2019 and was filtered for movies that had worldwide gross profit greater than the those within the 25th quartile. These changes were made to filter out the least popular movies in terms of critical reception and financial success. Identifying trends in the movies that remain in the data set allowed us to base our recommendations on the most well received movies."
   ]
  },
  {
   "cell_type": "code",
   "execution_count": null,
   "metadata": {},
   "outputs": [],
   "source": [
    "# Merge the 'movie_basics' and 'movie_rating' tables together with a left join to create 'basics_and_ratings' \n",
    "# dataframe\n",
    "basics_and_ratings = pd.read_sql(\"\"\"\n",
    "SELECT *\n",
    "FROM movie_basics\n",
    "LEFT JOIN movie_ratings\n",
    "    ON movie_basics.movie_id = movie_ratings.movie_id\n",
    "    \"\"\", conn )"
   ]
  },
  {
   "cell_type": "markdown",
   "metadata": {},
   "source": [
    "The movie_basics and movie_ratings tables were selected as it contain most relevant product data for our analysis such as the run times of each movie and number of votes collected from movie watchers."
   ]
  },
  {
   "cell_type": "code",
   "execution_count": null,
   "metadata": {},
   "outputs": [],
   "source": [
    "# Merge movie_budgets and movies with an inner join to create a 'masterdf' dataframe\n",
    "masterdf = movie_budgets.merge(movies, how='inner', left_on='movie', right_on='title', \\\n",
    "                               suffixes=('_budgets', '_movies'))"
   ]
  },
  {
   "cell_type": "code",
   "execution_count": null,
   "metadata": {},
   "outputs": [],
   "source": [
    "# Merge the 'basics_and_ratings' and 'masterdf' dataframes with an inner join to create a 'new_masterdf' dataframe\n",
    "new_masterdf = masterdf.merge(basics_and_ratings, how='inner', left_on='movie', right_on='primary_title', \\\n",
    "                              suffixes=('_master','_database')).drop_duplicates(subset='movie')"
   ]
  },
  {
   "cell_type": "code",
   "execution_count": null,
   "metadata": {},
   "outputs": [],
   "source": [
    "new_masterdf.head()"
   ]
  },
  {
   "cell_type": "code",
   "execution_count": null,
   "metadata": {},
   "outputs": [],
   "source": [
    "# Drop columns with repeated information or information not relevant to analysis from the datasets\n",
    "new_masterdf.drop(['id_movies', 'Unnamed: 0', 'original_title_database', 'movie_id', 'primary_title', 'title', \\\n",
    "                   'id_budgets', 'start_year', 'original_title_master', 'release_date_budgets', \\\n",
    "                   'vote_count', 'vote_average', 'popularity'], axis=1, inplace=True)"
   ]
  },
  {
   "cell_type": "markdown",
   "metadata": {},
   "source": [
    "The following columns were dropped from the dataset for the following reasons:\n",
    "* Columns 'id_movies', 'movie_id', and 'id_budgets' were the unique movie identification numbers from their respective datasets. These are no longer relevant identifers as each dataset has conflicting identification numbers and movies will be referenced by movie title rather than ID number. \n",
    "* Columns 'original_title_database', 'movie_id', 'primary_title', 'title', and 'original_title_master' contained repeated data of the movie title. \n",
    "* Column 'Unnamed: 0' was the index  from 'movies' dataset. \n",
    "* Columns 'start_year'and 'release_date_budgets' contained repeated information regarding release dates. "
   ]
  },
  {
   "cell_type": "code",
   "execution_count": null,
   "metadata": {},
   "outputs": [],
   "source": [
    "# Define function to remove '$' and ',' from dataset\n",
    "def remove_dollarsigncommas(data, column):\n",
    "    data[column] = data[column].str.replace(',','')\n",
    "    data[column] = data[column].str.replace('$','')\n",
    "    return print('all done') ; print(data[column].head())\n",
    "\n",
    "# Remove '$' and ',' from relevant columns\n",
    "remove_dollarsigncommas(new_masterdf, 'production_budget')\n",
    "remove_dollarsigncommas(new_masterdf, 'worldwide_gross')\n",
    "remove_dollarsigncommas(new_masterdf, 'domestic_gross')"
   ]
  },
  {
   "cell_type": "code",
   "execution_count": null,
   "metadata": {},
   "outputs": [],
   "source": [
    "# Cast the revelant columns as integers for data manipulation\n",
    "new_masterdf[['production_budget', 'domestic_gross', 'worldwide_gross']] = new_masterdf \\\n",
    "[['production_budget', 'domestic_gross', 'worldwide_gross']].applymap(lambda x: int(x))"
   ]
  },
  {
   "cell_type": "code",
   "execution_count": null,
   "metadata": {},
   "outputs": [],
   "source": [
    "# Create 'release_month' column for data manipulation\n",
    "new_masterdf['release_month'] = new_masterdf['release_date_movies'].map(lambda x: x[5:7])\n",
    "\n",
    "# Create 'release_year' column for data manipulation\n",
    "new_masterdf['release_year'] = new_masterdf['release_date_movies'].map(lambda x: int(x[:4]))"
   ]
  },
  {
   "cell_type": "code",
   "execution_count": null,
   "metadata": {},
   "outputs": [],
   "source": [
    "# Replace 'genre_ids' with respective TMDB genre names\n",
    "# Source: https://www.themoviedb.org/talk/5daf6eb0ae36680011d7e6ee\n",
    "\n",
    "new_masterdf['genre_ids'] = new_masterdf['genre_ids'].str.replace('28', 'Action')\n",
    "new_masterdf['genre_ids'] = new_masterdf['genre_ids'].str.replace('12', 'Adventure')\n",
    "new_masterdf['genre_ids'] = new_masterdf['genre_ids'].str.replace('16', 'Animation')\n",
    "new_masterdf['genre_ids'] = new_masterdf['genre_ids'].str.replace('35', 'Comedy')\n",
    "new_masterdf['genre_ids'] = new_masterdf['genre_ids'].str.replace('80', 'Crime')\n",
    "new_masterdf['genre_ids'] = new_masterdf['genre_ids'].str.replace('99', 'Documentary')\n",
    "new_masterdf['genre_ids'] = new_masterdf['genre_ids'].str.replace('18', 'Drama')\n",
    "new_masterdf['genre_ids'] = new_masterdf['genre_ids'].str.replace('10751', 'Family')\n",
    "new_masterdf['genre_ids'] = new_masterdf['genre_ids'].str.replace('14', 'Fantasy')\n",
    "new_masterdf['genre_ids'] = new_masterdf['genre_ids'].str.replace('36', 'History')\n",
    "new_masterdf['genre_ids'] = new_masterdf['genre_ids'].str.replace('27', 'Horror')\n",
    "new_masterdf['genre_ids'] = new_masterdf['genre_ids'].str.replace('10402', 'Music')\n",
    "new_masterdf['genre_ids'] = new_masterdf['genre_ids'].str.replace('9648', 'Mystery')\n",
    "new_masterdf['genre_ids'] = new_masterdf['genre_ids'].str.replace('10749', 'Romance')\n",
    "new_masterdf['genre_ids'] = new_masterdf['genre_ids'].str.replace('878', 'Science Fiction')\n",
    "new_masterdf['genre_ids'] = new_masterdf['genre_ids'].str.replace('10770', 'TV Movie')\n",
    "new_masterdf['genre_ids'] = new_masterdf['genre_ids'].str.replace('53', 'Thriller')\n",
    "new_masterdf['genre_ids'] = new_masterdf['genre_ids'].str.replace('10752', 'War')\n",
    "new_masterdf['genre_ids'] = new_masterdf['genre_ids'].str.replace('37', 'Western')"
   ]
  },
  {
   "cell_type": "code",
   "execution_count": null,
   "metadata": {},
   "outputs": [],
   "source": [
    "# Create new columns breaking down the genre types of each movie\n",
    "new_masterdf['genre_ids'] = new_masterdf['genre_ids'].map(lambda x: x.lstrip('[').rstrip(']').split(','))"
   ]
  },
  {
   "cell_type": "code",
   "execution_count": null,
   "metadata": {},
   "outputs": [],
   "source": [
    "# Reset the index\n",
    "new_masterdf.reset_index(inplace=True)"
   ]
  },
  {
   "cell_type": "code",
   "execution_count": null,
   "metadata": {},
   "outputs": [],
   "source": [
    "# Merging the genre breakdown data with the master dataset with an left join to create 'final_df' dataframe\n",
    "final_df = new_masterdf.join(pd.DataFrame(new_masterdf.genre_ids.values.tolist()).add_prefix('genre_'), how='left', \\\n",
    "                             lsuffix='_votes')\n",
    "\n",
    "# Reset the column labeled index\n",
    "final_df.drop('index', axis=1, inplace=True)\n",
    "\n",
    "# Find the amount of missing data from each column\n",
    "final_df.isna().sum()/len(final_df)\n",
    "\n",
    "# Drop all 'genre_' breakdown columns where majority of data was missing\n",
    "final_df.drop(['genre_6','genre_5','genre_4','genre_3', 'genre_2'], axis=1, inplace=True)\n",
    "\n",
    "# Drop the 'genres' column \n",
    "final_df.drop('genres', axis=1, inplace=True)"
   ]
  },
  {
   "cell_type": "code",
   "execution_count": null,
   "metadata": {},
   "outputs": [],
   "source": [
    "# Find the counts of unique values of the original_language\n",
    "final_df['original_language'].value_counts()\n",
    "\n",
    "# Drop the original_language column as majority of movies are in English\n",
    "final_df.drop('original_language', axis=1, inplace=True)"
   ]
  },
  {
   "cell_type": "code",
   "execution_count": null,
   "metadata": {},
   "outputs": [],
   "source": [
    "# Get the descriptive statistics of the 'worldwide_gross' column\n",
    "final_df['worldwide_gross'].describe()\n",
    "\n",
    "# Filter dataset based on worldwide gross profits\n",
    "final_df = final_df[final_df['worldwide_gross'] > 3541565]\n",
    "\n",
    "# Filter dataset based on movies released within last 10 years of dataset\n",
    "final_df = final_df[final_df['release_year'] >= 2009]\n",
    "\n",
    "# Additional column of the Net Profits\n",
    "final_df['net_profits'] = final_df['worldwide_gross'] - final_df['production_budget']\n",
    "\n",
    "# Additional column of the Profit to Budget Ratio\n",
    "final_df['profit_to_budget_ratio'] = final_df['net_profits'] / final_df['production_budget']\n",
    "\n",
    "# View the genre_0 makeup percentage\n",
    "(final_df.groupby('genre_0').count()/len(final_df)).sort_values('movie', ascending=False)\n",
    "\n",
    "# Drop the movies whose genre makes up less than 1% of the data \n",
    "final_df = final_df.loc[final_df['genre_0'] != 'TV Movie']\n",
    "final_df = final_df.loc[final_df['genre_0'] != 'Western']\n",
    "final_df = final_df.loc[final_df['genre_0'] != 'Music']\n",
    "final_df = final_df.loc[final_df['genre_0'] != 'War']\n",
    "final_df = final_df.loc[final_df['genre_0'] != 'History']\n",
    "final_df = final_df.loc[final_df['genre_0'] != 'Mystery']\n",
    "\n",
    "final_df"
   ]
  },
  {
   "cell_type": "markdown",
   "metadata": {},
   "source": [
    "The dataset was filtered for movies that had worldwide gross profit greater than the those within the 25th quartile in order to analyze the movies that exceled and profited to a worldwide audience rather than domestically. Additionally, it was filtered to only the most recent decade of movies (2009-2019) in order to keep the analysis focused on current movie metrics."
   ]
  },
  {
   "cell_type": "markdown",
   "metadata": {},
   "source": [
    "## Diving into Analysis"
   ]
  },
  {
   "cell_type": "code",
   "execution_count": null,
   "metadata": {
    "scrolled": false
   },
   "outputs": [],
   "source": [
    "# View the median values of the dataset grouped by the release month\n",
    "month_medians = final_df.groupby('release_month').median()\n",
    "\n",
    "# Reset the index\n",
    "month_medians.reset_index(drop=False, inplace=True)\n",
    "\n",
    "# Plot the Median Net Profits by Release Month between 2009-2019\n",
    "fig, ax = plt.subplots(figsize = (12 , 10))\n",
    "\n",
    "y = month_medians['net_profits'] / 1000000\n",
    "ticklabels = ['Jan', 'Feb', 'Mar', 'Apr', 'May', 'Jun', 'Jul', 'Aug', 'Sep', 'Oct', 'Nov', 'Dec']\n",
    "\n",
    "fig = sns.barplot(data = month_medians,\n",
    "                  x = 'release_month',\n",
    "                  y = y,\n",
    "                  color = 'blue',)\n",
    "\n",
    "plt.xlabel('Month', size=20)\n",
    "ax.set_xticklabels(ticklabels, size=15)\n",
    "plt.ylabel('Net Profits ($Millions)', size=20)\n",
    "plt.yticks(fontsize=15)\n",
    "plt.title('Median Net Profits by Release Month, 2009-2019', size=20)\n",
    "plt.show(fig);"
   ]
  },
  {
   "cell_type": "code",
   "execution_count": null,
   "metadata": {},
   "outputs": [],
   "source": [
    "# Plot the Median Number of Awards Votes by Release Month between 2009-2019\n",
    "fig, ax = plt.subplots(figsize = (12 , 10))\n",
    "\n",
    "ticklabels = ['Jan', 'Feb', 'Mar', 'Apr', 'May', 'Jun', 'Jul', 'Aug', 'Sep', 'Oct', 'Nov', 'Dec']\n",
    "\n",
    "fig = sns.barplot(data = month_medians,\n",
    "                  x = 'release_month',\n",
    "                  y = 'numvotes',\n",
    "                  color = 'blue',)\n",
    "\n",
    "plt.xlabel('Month', size=20)\n",
    "ax.set_xticklabels(ticklabels, size=15)\n",
    "plt.ylabel('Number of Awards Votes', size=20)\n",
    "plt.yticks(fontsize=15)\n",
    "plt.title('Median Number of Awards Votes by Release Month, 2009-2019', size=20)\n",
    "plt.show(fig);"
   ]
  },
  {
   "cell_type": "markdown",
   "metadata": {},
   "source": [
    "## Data Modeling\n",
    "\n",
    "Charts were created to provide a visual reference for the master data set. Charting the highest grossing movies compared to their genre, release month or number of votes allows for quick identification of the most frequently occuring variables in successful movies. Statistical measures like the mean and bottom 25% quartile were applied to find average values across the dataset and remove the worst performing movies. We did not want the analyis to consider movies that performed poorly or were not representative of the data as a whole when making recommendations on how to produce profitable movies."
   ]
  },
  {
   "cell_type": "code",
   "execution_count": null,
   "metadata": {},
   "outputs": [],
   "source": [
    "# Here you run your code to model the data\n"
   ]
  },
  {
   "cell_type": "markdown",
   "metadata": {},
   "source": [
    "## Evaluation\n",
    "Evaluate how well your work solves the stated business problem.\n",
    "\n",
    "***\n",
    "Questions to consider:\n",
    "* How do you interpret the results?\n",
    "* How well does your model fit your data? How much better is this than your baseline model?\n",
    "* How confident are you that your results would generalize beyond the data you have?\n",
    "* How confident are you that this model would benefit the business if put into use?\n",
    "***\n",
    "\n",
    "Many of the highest grossing movies are part of existing franchises or intellectual property. Audiences enjoy seeing movies based on stories and characters that they're already familiar with. The cost of acquiring pre-existing intellectual property was not factored in to this analysis.\n"
   ]
  },
  {
   "cell_type": "markdown",
   "metadata": {},
   "source": [
    "## Conclusions\n",
    "\n",
    "* Recommendation 1: Focus on an Animation Genre Movie\n",
    "    * This genre of movie shows to have the highest profitability, including Worldwide gross, net profit, profit to production cost ratio. \n",
    "    * Based on audience votes, this genre is highly ranked.\n",
    "    * The audience range for animated movies spans across the largest age range.\n",
    "    \n",
    "* Recommendation 2: Released the movie in the Summer or right before the Holidays in November\n",
    "    * Movies released around these seasons profited the most. This can be attributed to the larger amount of freetime people have during these time periods.\n",
    "\n",
    "* Recommendation 3: Do not be overly concerned with movie Run Time\n",
    "    * There is no strong correlation with awards, profit, or ROI when comparing short vs. long run times.\n",
    "  \n",
    "  \n",
    "Limitations:\n",
    "* Missing data\n",
    "* Dataset contains incorrect information, such as two movies having the same name. The release date would correlate with one movie, but the genre would correlate with the secondary movie.\n",
    "\n",
    "\n",
    "Next Steps:\n",
    "* Look into Streaming vs. Box office performance for genres\n",
    "* Compare the data with historical data trends\n"
   ]
  }
 ],
 "metadata": {
  "kernelspec": {
   "display_name": "Python 3 (ipykernel)",
   "language": "python",
   "name": "python3"
  },
  "language_info": {
   "codemirror_mode": {
    "name": "ipython",
    "version": 3
   },
   "file_extension": ".py",
   "mimetype": "text/x-python",
   "name": "python",
   "nbconvert_exporter": "python",
   "pygments_lexer": "ipython3",
   "version": "3.9.13"
  }
 },
 "nbformat": 4,
 "nbformat_minor": 4
}
